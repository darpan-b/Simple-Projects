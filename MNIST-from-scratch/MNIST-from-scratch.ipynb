{
 "cells": [
  {
   "cell_type": "code",
   "execution_count": 1,
   "id": "9e379651",
   "metadata": {},
   "outputs": [],
   "source": [
    "# Coding a Neural Network from scratch\n",
    "# (Ref: https://www.youtube.com/watch?v=w8yWXqWQYmU)"
   ]
  },
  {
   "cell_type": "code",
   "execution_count": 172,
   "id": "7e67543d",
   "metadata": {},
   "outputs": [],
   "source": [
    "import numpy as np\n",
    "import pandas as pd\n",
    "import matplotlib.pyplot as plt\n",
    "import random"
   ]
  },
  {
   "cell_type": "code",
   "execution_count": 3,
   "id": "1a4e5c53",
   "metadata": {},
   "outputs": [],
   "source": [
    "data = pd.read_csv(\"/home/db/Documents/Other-stuff/Datasets/MNIST/digit-recognizer/train.csv\")"
   ]
  },
  {
   "cell_type": "code",
   "execution_count": 6,
   "id": "5494dd5c",
   "metadata": {},
   "outputs": [
    {
     "data": {
      "text/html": [
       "<div>\n",
       "<style scoped>\n",
       "    .dataframe tbody tr th:only-of-type {\n",
       "        vertical-align: middle;\n",
       "    }\n",
       "\n",
       "    .dataframe tbody tr th {\n",
       "        vertical-align: top;\n",
       "    }\n",
       "\n",
       "    .dataframe thead th {\n",
       "        text-align: right;\n",
       "    }\n",
       "</style>\n",
       "<table border=\"1\" class=\"dataframe\">\n",
       "  <thead>\n",
       "    <tr style=\"text-align: right;\">\n",
       "      <th></th>\n",
       "      <th>label</th>\n",
       "      <th>pixel0</th>\n",
       "      <th>pixel1</th>\n",
       "      <th>pixel2</th>\n",
       "      <th>pixel3</th>\n",
       "      <th>pixel4</th>\n",
       "      <th>pixel5</th>\n",
       "      <th>pixel6</th>\n",
       "      <th>pixel7</th>\n",
       "      <th>pixel8</th>\n",
       "      <th>...</th>\n",
       "      <th>pixel774</th>\n",
       "      <th>pixel775</th>\n",
       "      <th>pixel776</th>\n",
       "      <th>pixel777</th>\n",
       "      <th>pixel778</th>\n",
       "      <th>pixel779</th>\n",
       "      <th>pixel780</th>\n",
       "      <th>pixel781</th>\n",
       "      <th>pixel782</th>\n",
       "      <th>pixel783</th>\n",
       "    </tr>\n",
       "  </thead>\n",
       "  <tbody>\n",
       "    <tr>\n",
       "      <th>0</th>\n",
       "      <td>1</td>\n",
       "      <td>0</td>\n",
       "      <td>0</td>\n",
       "      <td>0</td>\n",
       "      <td>0</td>\n",
       "      <td>0</td>\n",
       "      <td>0</td>\n",
       "      <td>0</td>\n",
       "      <td>0</td>\n",
       "      <td>0</td>\n",
       "      <td>...</td>\n",
       "      <td>0</td>\n",
       "      <td>0</td>\n",
       "      <td>0</td>\n",
       "      <td>0</td>\n",
       "      <td>0</td>\n",
       "      <td>0</td>\n",
       "      <td>0</td>\n",
       "      <td>0</td>\n",
       "      <td>0</td>\n",
       "      <td>0</td>\n",
       "    </tr>\n",
       "    <tr>\n",
       "      <th>1</th>\n",
       "      <td>0</td>\n",
       "      <td>0</td>\n",
       "      <td>0</td>\n",
       "      <td>0</td>\n",
       "      <td>0</td>\n",
       "      <td>0</td>\n",
       "      <td>0</td>\n",
       "      <td>0</td>\n",
       "      <td>0</td>\n",
       "      <td>0</td>\n",
       "      <td>...</td>\n",
       "      <td>0</td>\n",
       "      <td>0</td>\n",
       "      <td>0</td>\n",
       "      <td>0</td>\n",
       "      <td>0</td>\n",
       "      <td>0</td>\n",
       "      <td>0</td>\n",
       "      <td>0</td>\n",
       "      <td>0</td>\n",
       "      <td>0</td>\n",
       "    </tr>\n",
       "    <tr>\n",
       "      <th>2</th>\n",
       "      <td>1</td>\n",
       "      <td>0</td>\n",
       "      <td>0</td>\n",
       "      <td>0</td>\n",
       "      <td>0</td>\n",
       "      <td>0</td>\n",
       "      <td>0</td>\n",
       "      <td>0</td>\n",
       "      <td>0</td>\n",
       "      <td>0</td>\n",
       "      <td>...</td>\n",
       "      <td>0</td>\n",
       "      <td>0</td>\n",
       "      <td>0</td>\n",
       "      <td>0</td>\n",
       "      <td>0</td>\n",
       "      <td>0</td>\n",
       "      <td>0</td>\n",
       "      <td>0</td>\n",
       "      <td>0</td>\n",
       "      <td>0</td>\n",
       "    </tr>\n",
       "    <tr>\n",
       "      <th>3</th>\n",
       "      <td>4</td>\n",
       "      <td>0</td>\n",
       "      <td>0</td>\n",
       "      <td>0</td>\n",
       "      <td>0</td>\n",
       "      <td>0</td>\n",
       "      <td>0</td>\n",
       "      <td>0</td>\n",
       "      <td>0</td>\n",
       "      <td>0</td>\n",
       "      <td>...</td>\n",
       "      <td>0</td>\n",
       "      <td>0</td>\n",
       "      <td>0</td>\n",
       "      <td>0</td>\n",
       "      <td>0</td>\n",
       "      <td>0</td>\n",
       "      <td>0</td>\n",
       "      <td>0</td>\n",
       "      <td>0</td>\n",
       "      <td>0</td>\n",
       "    </tr>\n",
       "    <tr>\n",
       "      <th>4</th>\n",
       "      <td>0</td>\n",
       "      <td>0</td>\n",
       "      <td>0</td>\n",
       "      <td>0</td>\n",
       "      <td>0</td>\n",
       "      <td>0</td>\n",
       "      <td>0</td>\n",
       "      <td>0</td>\n",
       "      <td>0</td>\n",
       "      <td>0</td>\n",
       "      <td>...</td>\n",
       "      <td>0</td>\n",
       "      <td>0</td>\n",
       "      <td>0</td>\n",
       "      <td>0</td>\n",
       "      <td>0</td>\n",
       "      <td>0</td>\n",
       "      <td>0</td>\n",
       "      <td>0</td>\n",
       "      <td>0</td>\n",
       "      <td>0</td>\n",
       "    </tr>\n",
       "  </tbody>\n",
       "</table>\n",
       "<p>5 rows × 785 columns</p>\n",
       "</div>"
      ],
      "text/plain": [
       "   label  pixel0  pixel1  pixel2  pixel3  pixel4  pixel5  pixel6  pixel7  \\\n",
       "0      1       0       0       0       0       0       0       0       0   \n",
       "1      0       0       0       0       0       0       0       0       0   \n",
       "2      1       0       0       0       0       0       0       0       0   \n",
       "3      4       0       0       0       0       0       0       0       0   \n",
       "4      0       0       0       0       0       0       0       0       0   \n",
       "\n",
       "   pixel8  ...  pixel774  pixel775  pixel776  pixel777  pixel778  pixel779  \\\n",
       "0       0  ...         0         0         0         0         0         0   \n",
       "1       0  ...         0         0         0         0         0         0   \n",
       "2       0  ...         0         0         0         0         0         0   \n",
       "3       0  ...         0         0         0         0         0         0   \n",
       "4       0  ...         0         0         0         0         0         0   \n",
       "\n",
       "   pixel780  pixel781  pixel782  pixel783  \n",
       "0         0         0         0         0  \n",
       "1         0         0         0         0  \n",
       "2         0         0         0         0  \n",
       "3         0         0         0         0  \n",
       "4         0         0         0         0  \n",
       "\n",
       "[5 rows x 785 columns]"
      ]
     },
     "execution_count": 6,
     "metadata": {},
     "output_type": "execute_result"
    }
   ],
   "source": [
    "data.head()\n",
    "# Each image is of dimension 28x28 = 784, and there are m=42000 such training examples"
   ]
  },
  {
   "cell_type": "code",
   "execution_count": 7,
   "id": "a4153c20",
   "metadata": {},
   "outputs": [
    {
     "data": {
      "text/plain": [
       "(42000, 785)"
      ]
     },
     "execution_count": 7,
     "metadata": {},
     "output_type": "execute_result"
    }
   ],
   "source": [
    "data.shape"
   ]
  },
  {
   "cell_type": "code",
   "execution_count": 10,
   "id": "e43d1989",
   "metadata": {},
   "outputs": [],
   "source": [
    "data = np.array(data) # converted it to np array for linalg convenience\n",
    "m, n = data.shape\n",
    "np.random.shuffle(data)"
   ]
  },
  {
   "cell_type": "code",
   "execution_count": 95,
   "id": "34cd9df5",
   "metadata": {},
   "outputs": [
    {
     "name": "stdout",
     "output_type": "stream",
     "text": [
      "(1000,) (784, 1000)\n",
      "(41000,) (784, 41000)\n"
     ]
    }
   ],
   "source": [
    "validation_data = data[0:1000].T\n",
    "Y_validation = validation_data[0]\n",
    "x_validation = validation_data[1:]\n",
    "x_validation = x_validation / 255 # normalizing values in grayscale (0-255)\n",
    "print(Y_validation.shape, x_validation.shape)\n",
    "\n",
    "training_data = data[1000:].T\n",
    "Y_train = training_data[0]\n",
    "x_train = training_data[1:]\n",
    "x_train = x_train / 255 # normalizing values in grayscale (0-255)\n",
    "print(Y_train.shape, x_train.shape)"
   ]
  },
  {
   "cell_type": "code",
   "execution_count": 109,
   "id": "602d738e",
   "metadata": {},
   "outputs": [],
   "source": [
    "# Initializing the parameters\n",
    "def init_params():\n",
    "    W1 = np.random.rand(10, 784) - 0.5\n",
    "    b1 = np.random.rand(10, 1) - 0.5\n",
    "    W2 = np.random.rand(10, 10) - 0.5\n",
    "    b2 = np.random.rand(10, 1) - 0.5\n",
    "    return W1, b1, W2, b2"
   ]
  },
  {
   "cell_type": "code",
   "execution_count": 110,
   "id": "9d505e44",
   "metadata": {},
   "outputs": [],
   "source": [
    "def ReLU(Z):\n",
    "    return np.maximum(0, Z) # element-wise maximum of the vector\n",
    "\n",
    "def softmax(Z):\n",
    "    return (np.exp(Z) / sum(np.exp(Z))) # again, using numpy for element-wise application in vector\n",
    "\n",
    "# Forward propagation\n",
    "def forward_prop(W1, b1, W2, b2, X):\n",
    "    Z1 = W1.dot(X) + b1\n",
    "    A1 = ReLU(Z1)\n",
    "    Z2 = W2.dot(A1) + b2\n",
    "    A2 = softmax(Z2) # A2 is our y^hat, the predicted output\n",
    "    return Z1, A1, Z2, A2"
   ]
  },
  {
   "cell_type": "code",
   "execution_count": 111,
   "id": "4d71dadb",
   "metadata": {},
   "outputs": [],
   "source": [
    "def one_hot_encode(Y):\n",
    "    ohY = np.zeros((Y.size, 10))\n",
    "    ohY[np.arange(Y.size), Y] = 1 # for i = 1 to m, ohY[i, Y[i]] = 1\n",
    "    ohY = ohY.T\n",
    "    return ohY\n",
    "\n",
    "def derivative_ReLU(Z):\n",
    "    # if Z > 0 d_ReLU = 1, else it is 0\n",
    "    return Z > 0\n",
    "\n",
    "# Backward propagation\n",
    "def backward_prop(Z1, A1, Z2, A2, W1, W2, X, Y):\n",
    "    m = Y.size\n",
    "    ohY = one_hot_encode(Y)\n",
    "    dZ2 = A2 - ohY\n",
    "    dW2 = 1/m * dZ2.dot(A1.T)\n",
    "    db2 = 1/m * np.sum(dZ2, axis=1).reshape(-1, 1)\n",
    "    dZ1 = W2.T.dot(dZ2) * derivative_ReLU(Z1)\n",
    "    dW1 = 1/m * dZ1.dot(X.T)\n",
    "    db1 = 1/m * np.sum(dZ1, axis=1).reshape(-1, 1)\n",
    "    return dW1, db1, dW2, db2"
   ]
  },
  {
   "cell_type": "code",
   "execution_count": 112,
   "id": "9e625666",
   "metadata": {},
   "outputs": [],
   "source": [
    "# updating the parameters\n",
    "def update_params(W1, b1, W2, b2, dW1, db1, dW2, db2, alpha):\n",
    "    W1 -= alpha * dW1\n",
    "    b1 -= alpha * db1\n",
    "    W2 -= alpha * dW2\n",
    "    b2 -= alpha * db2\n",
    "    return W1, b1, W2, b2"
   ]
  },
  {
   "cell_type": "code",
   "execution_count": 113,
   "id": "e87ddd4d",
   "metadata": {},
   "outputs": [],
   "source": [
    "def get_accuracy(A2, Y):\n",
    "    predictions = np.argmax(A2, axis=0) # maximum value in A2 in each column is the predicted value\n",
    "#     print(predictions, Y)\n",
    "    accuracy = np.sum(predictions == Y) / Y.size\n",
    "    return accuracy\n",
    "\n",
    "# gradient descent for training\n",
    "def gradient_descent(X, Y, num_iterations, learning_rate):\n",
    "    W1, b1, W2, b2 = init_params()\n",
    "    \n",
    "    for i in range(num_iterations):\n",
    "        Z1, A1, Z2, A2 = forward_prop(W1, b1, W2, b2, X)\n",
    "        dW1, db1, dW2, db2 = backward_prop(Z1, A1, Z2, A2, W1, W2, X, Y)\n",
    "        W1, b1, W2, b2 = update_params(W1, b1, W2, b2, dW1, db1, dW2, db2, learning_rate)\n",
    "        \n",
    "        if i % 10 == 0:\n",
    "            print(\"Iteration =\", i, \"Accuracy = \", get_accuracy(A2, Y))\n",
    "    \n",
    "    return W1, b1, W2, b2"
   ]
  },
  {
   "cell_type": "code",
   "execution_count": 114,
   "id": "bff4544a",
   "metadata": {},
   "outputs": [
    {
     "name": "stdout",
     "output_type": "stream",
     "text": [
      "Iteration = 0 Accuracy =  0.09685365853658537\n",
      "Iteration = 10 Accuracy =  0.29178048780487803\n",
      "Iteration = 20 Accuracy =  0.4541219512195122\n",
      "Iteration = 30 Accuracy =  0.5759024390243902\n",
      "Iteration = 40 Accuracy =  0.6473658536585366\n",
      "Iteration = 50 Accuracy =  0.6900731707317073\n",
      "Iteration = 60 Accuracy =  0.7205609756097561\n",
      "Iteration = 70 Accuracy =  0.7429512195121951\n",
      "Iteration = 80 Accuracy =  0.7606829268292683\n",
      "Iteration = 90 Accuracy =  0.7741951219512195\n",
      "Iteration = 100 Accuracy =  0.7854878048780488\n",
      "Iteration = 110 Accuracy =  0.795609756097561\n",
      "Iteration = 120 Accuracy =  0.8046341463414635\n",
      "Iteration = 130 Accuracy =  0.8121219512195123\n",
      "Iteration = 140 Accuracy =  0.818170731707317\n",
      "Iteration = 150 Accuracy =  0.8237560975609756\n",
      "Iteration = 160 Accuracy =  0.8286585365853658\n",
      "Iteration = 170 Accuracy =  0.833170731707317\n",
      "Iteration = 180 Accuracy =  0.8369756097560975\n",
      "Iteration = 190 Accuracy =  0.8395365853658536\n",
      "Iteration = 200 Accuracy =  0.836780487804878\n",
      "Iteration = 210 Accuracy =  0.8295609756097561\n",
      "Iteration = 220 Accuracy =  0.8408536585365853\n",
      "Iteration = 230 Accuracy =  0.8494390243902439\n",
      "Iteration = 240 Accuracy =  0.8533658536585366\n",
      "Iteration = 250 Accuracy =  0.856\n",
      "Iteration = 260 Accuracy =  0.8579024390243902\n",
      "Iteration = 270 Accuracy =  0.8598536585365854\n",
      "Iteration = 280 Accuracy =  0.8616585365853658\n",
      "Iteration = 290 Accuracy =  0.8633658536585366\n",
      "Iteration = 300 Accuracy =  0.8641951219512195\n",
      "Iteration = 310 Accuracy =  0.8646585365853658\n",
      "Iteration = 320 Accuracy =  0.8659268292682927\n",
      "Iteration = 330 Accuracy =  0.8675853658536585\n",
      "Iteration = 340 Accuracy =  0.8696585365853658\n",
      "Iteration = 350 Accuracy =  0.8715121951219512\n",
      "Iteration = 360 Accuracy =  0.873219512195122\n",
      "Iteration = 370 Accuracy =  0.8740243902439024\n",
      "Iteration = 380 Accuracy =  0.8751219512195122\n",
      "Iteration = 390 Accuracy =  0.8764634146341463\n",
      "Iteration = 400 Accuracy =  0.877219512195122\n",
      "Iteration = 410 Accuracy =  0.8782439024390244\n",
      "Iteration = 420 Accuracy =  0.8792926829268293\n",
      "Iteration = 430 Accuracy =  0.8802439024390244\n",
      "Iteration = 440 Accuracy =  0.8808292682926829\n",
      "Iteration = 450 Accuracy =  0.8815853658536585\n",
      "Iteration = 460 Accuracy =  0.8823170731707317\n",
      "Iteration = 470 Accuracy =  0.8830731707317073\n",
      "Iteration = 480 Accuracy =  0.8839024390243903\n",
      "Iteration = 490 Accuracy =  0.8846341463414634\n"
     ]
    }
   ],
   "source": [
    "W1, b1, W2, b2 = gradient_descent(x_train, Y_train, 500, 0.2)"
   ]
  },
  {
   "cell_type": "markdown",
   "id": "bde390a5",
   "metadata": {},
   "source": [
    "~88% training accuracy"
   ]
  },
  {
   "cell_type": "code",
   "execution_count": 126,
   "id": "c6b7297c",
   "metadata": {},
   "outputs": [
    {
     "data": {
      "text/html": [
       "<div>\n",
       "<style scoped>\n",
       "    .dataframe tbody tr th:only-of-type {\n",
       "        vertical-align: middle;\n",
       "    }\n",
       "\n",
       "    .dataframe tbody tr th {\n",
       "        vertical-align: top;\n",
       "    }\n",
       "\n",
       "    .dataframe thead th {\n",
       "        text-align: right;\n",
       "    }\n",
       "</style>\n",
       "<table border=\"1\" class=\"dataframe\">\n",
       "  <thead>\n",
       "    <tr style=\"text-align: right;\">\n",
       "      <th></th>\n",
       "      <th>pixel0</th>\n",
       "      <th>pixel1</th>\n",
       "      <th>pixel2</th>\n",
       "      <th>pixel3</th>\n",
       "      <th>pixel4</th>\n",
       "      <th>pixel5</th>\n",
       "      <th>pixel6</th>\n",
       "      <th>pixel7</th>\n",
       "      <th>pixel8</th>\n",
       "      <th>pixel9</th>\n",
       "      <th>...</th>\n",
       "      <th>pixel774</th>\n",
       "      <th>pixel775</th>\n",
       "      <th>pixel776</th>\n",
       "      <th>pixel777</th>\n",
       "      <th>pixel778</th>\n",
       "      <th>pixel779</th>\n",
       "      <th>pixel780</th>\n",
       "      <th>pixel781</th>\n",
       "      <th>pixel782</th>\n",
       "      <th>pixel783</th>\n",
       "    </tr>\n",
       "  </thead>\n",
       "  <tbody>\n",
       "    <tr>\n",
       "      <th>0</th>\n",
       "      <td>0</td>\n",
       "      <td>0</td>\n",
       "      <td>0</td>\n",
       "      <td>0</td>\n",
       "      <td>0</td>\n",
       "      <td>0</td>\n",
       "      <td>0</td>\n",
       "      <td>0</td>\n",
       "      <td>0</td>\n",
       "      <td>0</td>\n",
       "      <td>...</td>\n",
       "      <td>0</td>\n",
       "      <td>0</td>\n",
       "      <td>0</td>\n",
       "      <td>0</td>\n",
       "      <td>0</td>\n",
       "      <td>0</td>\n",
       "      <td>0</td>\n",
       "      <td>0</td>\n",
       "      <td>0</td>\n",
       "      <td>0</td>\n",
       "    </tr>\n",
       "    <tr>\n",
       "      <th>1</th>\n",
       "      <td>0</td>\n",
       "      <td>0</td>\n",
       "      <td>0</td>\n",
       "      <td>0</td>\n",
       "      <td>0</td>\n",
       "      <td>0</td>\n",
       "      <td>0</td>\n",
       "      <td>0</td>\n",
       "      <td>0</td>\n",
       "      <td>0</td>\n",
       "      <td>...</td>\n",
       "      <td>0</td>\n",
       "      <td>0</td>\n",
       "      <td>0</td>\n",
       "      <td>0</td>\n",
       "      <td>0</td>\n",
       "      <td>0</td>\n",
       "      <td>0</td>\n",
       "      <td>0</td>\n",
       "      <td>0</td>\n",
       "      <td>0</td>\n",
       "    </tr>\n",
       "    <tr>\n",
       "      <th>2</th>\n",
       "      <td>0</td>\n",
       "      <td>0</td>\n",
       "      <td>0</td>\n",
       "      <td>0</td>\n",
       "      <td>0</td>\n",
       "      <td>0</td>\n",
       "      <td>0</td>\n",
       "      <td>0</td>\n",
       "      <td>0</td>\n",
       "      <td>0</td>\n",
       "      <td>...</td>\n",
       "      <td>0</td>\n",
       "      <td>0</td>\n",
       "      <td>0</td>\n",
       "      <td>0</td>\n",
       "      <td>0</td>\n",
       "      <td>0</td>\n",
       "      <td>0</td>\n",
       "      <td>0</td>\n",
       "      <td>0</td>\n",
       "      <td>0</td>\n",
       "    </tr>\n",
       "    <tr>\n",
       "      <th>3</th>\n",
       "      <td>0</td>\n",
       "      <td>0</td>\n",
       "      <td>0</td>\n",
       "      <td>0</td>\n",
       "      <td>0</td>\n",
       "      <td>0</td>\n",
       "      <td>0</td>\n",
       "      <td>0</td>\n",
       "      <td>0</td>\n",
       "      <td>0</td>\n",
       "      <td>...</td>\n",
       "      <td>0</td>\n",
       "      <td>0</td>\n",
       "      <td>0</td>\n",
       "      <td>0</td>\n",
       "      <td>0</td>\n",
       "      <td>0</td>\n",
       "      <td>0</td>\n",
       "      <td>0</td>\n",
       "      <td>0</td>\n",
       "      <td>0</td>\n",
       "    </tr>\n",
       "    <tr>\n",
       "      <th>4</th>\n",
       "      <td>0</td>\n",
       "      <td>0</td>\n",
       "      <td>0</td>\n",
       "      <td>0</td>\n",
       "      <td>0</td>\n",
       "      <td>0</td>\n",
       "      <td>0</td>\n",
       "      <td>0</td>\n",
       "      <td>0</td>\n",
       "      <td>0</td>\n",
       "      <td>...</td>\n",
       "      <td>0</td>\n",
       "      <td>0</td>\n",
       "      <td>0</td>\n",
       "      <td>0</td>\n",
       "      <td>0</td>\n",
       "      <td>0</td>\n",
       "      <td>0</td>\n",
       "      <td>0</td>\n",
       "      <td>0</td>\n",
       "      <td>0</td>\n",
       "    </tr>\n",
       "  </tbody>\n",
       "</table>\n",
       "<p>5 rows × 784 columns</p>\n",
       "</div>"
      ],
      "text/plain": [
       "   pixel0  pixel1  pixel2  pixel3  pixel4  pixel5  pixel6  pixel7  pixel8  \\\n",
       "0       0       0       0       0       0       0       0       0       0   \n",
       "1       0       0       0       0       0       0       0       0       0   \n",
       "2       0       0       0       0       0       0       0       0       0   \n",
       "3       0       0       0       0       0       0       0       0       0   \n",
       "4       0       0       0       0       0       0       0       0       0   \n",
       "\n",
       "   pixel9  ...  pixel774  pixel775  pixel776  pixel777  pixel778  pixel779  \\\n",
       "0       0  ...         0         0         0         0         0         0   \n",
       "1       0  ...         0         0         0         0         0         0   \n",
       "2       0  ...         0         0         0         0         0         0   \n",
       "3       0  ...         0         0         0         0         0         0   \n",
       "4       0  ...         0         0         0         0         0         0   \n",
       "\n",
       "   pixel780  pixel781  pixel782  pixel783  \n",
       "0         0         0         0         0  \n",
       "1         0         0         0         0  \n",
       "2         0         0         0         0  \n",
       "3         0         0         0         0  \n",
       "4         0         0         0         0  \n",
       "\n",
       "[5 rows x 784 columns]"
      ]
     },
     "execution_count": 126,
     "metadata": {},
     "output_type": "execute_result"
    }
   ],
   "source": [
    "# testing\n",
    "test_data = pd.read_csv(\"/home/db/Documents/Other-stuff/Datasets/MNIST/digit-recognizer/test.csv\")\n",
    "test_data.head()"
   ]
  },
  {
   "cell_type": "code",
   "execution_count": 127,
   "id": "47f1d22d",
   "metadata": {},
   "outputs": [
    {
     "name": "stdout",
     "output_type": "stream",
     "text": [
      "(28000, 784)\n"
     ]
    }
   ],
   "source": [
    "print(test_data.shape)"
   ]
  },
  {
   "cell_type": "code",
   "execution_count": 158,
   "id": "831d4a16",
   "metadata": {},
   "outputs": [
    {
     "data": {
      "image/png": "[encoded data removed]",
      "text/plain": [
       "<Figure size 640x480 with 1 Axes>"
      ]
     },
     "metadata": {},
     "output_type": "display_data"
    }
   ],
   "source": [
    "test_data = np.array(test_data)\n",
    "np.random.shuffle(test_data)\n",
    "# firstly print the image, then see what output is being predicted\n",
    "def print_image(idx):\n",
    "    plt.imshow(test_data[idx].reshape((28, 28)), cmap=\"gray\")\n",
    "print_image(7)"
   ]
  },
  {
   "cell_type": "code",
   "execution_count": 159,
   "id": "84ba61d8",
   "metadata": {},
   "outputs": [],
   "source": [
    "def predict_output(idx):\n",
    "    Z1, A1, Z2, A2 = forward_prop(W1, b1, W2, b2, test_data[idx])\n",
    "    print_image(idx)\n",
    "    print(\"predicted label =\", np.argmax(A2))"
   ]
  },
  {
   "cell_type": "code",
   "execution_count": 160,
   "id": "bb01bfe7",
   "metadata": {},
   "outputs": [
    {
     "name": "stdout",
     "output_type": "stream",
     "text": [
      "predicted label = 0\n"
     ]
    },
    {
     "name": "stderr",
     "output_type": "stream",
     "text": [
      "/tmp/ipykernel_8826/3446955684.py:5: RuntimeWarning: overflow encountered in exp\n",
      "  return (np.exp(Z) / sum(np.exp(Z))) # again, using numpy for element-wise application in vector\n",
      "/tmp/ipykernel_8826/3446955684.py:5: RuntimeWarning: invalid value encountered in divide\n",
      "  return (np.exp(Z) / sum(np.exp(Z))) # again, using numpy for element-wise application in vector\n"
     ]
    },
    {
     "data": {
      "image/png": "[encoded data removed]",
      "text/plain": [
       "<Figure size 640x480 with 1 Axes>"
      ]
     },
     "metadata": {},
     "output_type": "display_data"
    }
   ],
   "source": [
    "predict_output(8)"
   ]
  },
  {
   "cell_type": "code",
   "execution_count": 161,
   "id": "1c22bc09",
   "metadata": {},
   "outputs": [
    {
     "name": "stdout",
     "output_type": "stream",
     "text": [
      "predicted label = 3\n"
     ]
    },
    {
     "name": "stderr",
     "output_type": "stream",
     "text": [
      "/tmp/ipykernel_8826/3446955684.py:5: RuntimeWarning: overflow encountered in exp\n",
      "  return (np.exp(Z) / sum(np.exp(Z))) # again, using numpy for element-wise application in vector\n",
      "/tmp/ipykernel_8826/3446955684.py:5: RuntimeWarning: invalid value encountered in divide\n",
      "  return (np.exp(Z) / sum(np.exp(Z))) # again, using numpy for element-wise application in vector\n"
     ]
    },
    {
     "data": {
      "image/png": "[encoded data removed]",
      "text/plain": [
       "<Figure size 640x480 with 1 Axes>"
      ]
     },
     "metadata": {},
     "output_type": "display_data"
    }
   ],
   "source": [
    "predict_output(15)"
   ]
  },
  {
   "cell_type": "code",
   "execution_count": 162,
   "id": "10c5b4b1",
   "metadata": {},
   "outputs": [
    {
     "name": "stdout",
     "output_type": "stream",
     "text": [
      "predicted label = 2\n"
     ]
    },
    {
     "name": "stderr",
     "output_type": "stream",
     "text": [
      "/tmp/ipykernel_8826/3446955684.py:5: RuntimeWarning: overflow encountered in exp\n",
      "  return (np.exp(Z) / sum(np.exp(Z))) # again, using numpy for element-wise application in vector\n",
      "/tmp/ipykernel_8826/3446955684.py:5: RuntimeWarning: invalid value encountered in divide\n",
      "  return (np.exp(Z) / sum(np.exp(Z))) # again, using numpy for element-wise application in vector\n"
     ]
    },
    {
     "data": {
      "image/png": "[encoded data removed]",
      "text/plain": [
       "<Figure size 640x480 with 1 Axes>"
      ]
     },
     "metadata": {},
     "output_type": "display_data"
    }
   ],
   "source": [
    "predict_output(0)"
   ]
  },
  {
   "cell_type": "code",
   "execution_count": 163,
   "id": "39cbf6b8",
   "metadata": {},
   "outputs": [
    {
     "name": "stdout",
     "output_type": "stream",
     "text": [
      "predicted label = 1\n"
     ]
    },
    {
     "name": "stderr",
     "output_type": "stream",
     "text": [
      "/tmp/ipykernel_8826/3446955684.py:5: RuntimeWarning: overflow encountered in exp\n",
      "  return (np.exp(Z) / sum(np.exp(Z))) # again, using numpy for element-wise application in vector\n",
      "/tmp/ipykernel_8826/3446955684.py:5: RuntimeWarning: invalid value encountered in divide\n",
      "  return (np.exp(Z) / sum(np.exp(Z))) # again, using numpy for element-wise application in vector\n"
     ]
    },
    {
     "data": {
      "image/png": "[encoded data removed]",
      "text/plain": [
       "<Figure size 640x480 with 1 Axes>"
      ]
     },
     "metadata": {},
     "output_type": "display_data"
    }
   ],
   "source": [
    "predict_output(3)"
   ]
  },
  {
   "cell_type": "code",
   "execution_count": 164,
   "id": "5625ef66",
   "metadata": {},
   "outputs": [
    {
     "name": "stdout",
     "output_type": "stream",
     "text": [
      "predicted label = 0\n"
     ]
    },
    {
     "name": "stderr",
     "output_type": "stream",
     "text": [
      "/tmp/ipykernel_8826/3446955684.py:5: RuntimeWarning: overflow encountered in exp\n",
      "  return (np.exp(Z) / sum(np.exp(Z))) # again, using numpy for element-wise application in vector\n",
      "/tmp/ipykernel_8826/3446955684.py:5: RuntimeWarning: invalid value encountered in divide\n",
      "  return (np.exp(Z) / sum(np.exp(Z))) # again, using numpy for element-wise application in vector\n"
     ]
    },
    {
     "data": {
      "image/png": "[encoded data removed]",
      "text/plain": [
       "<Figure size 640x480 with 1 Axes>"
      ]
     },
     "metadata": {},
     "output_type": "display_data"
    }
   ],
   "source": [
    "predict_output(5)"
   ]
  },
  {
   "cell_type": "code",
   "execution_count": 165,
   "id": "0c930e75",
   "metadata": {},
   "outputs": [
    {
     "name": "stdout",
     "output_type": "stream",
     "text": [
      "predicted label = 0\n"
     ]
    },
    {
     "name": "stderr",
     "output_type": "stream",
     "text": [
      "/tmp/ipykernel_8826/3446955684.py:5: RuntimeWarning: overflow encountered in exp\n",
      "  return (np.exp(Z) / sum(np.exp(Z))) # again, using numpy for element-wise application in vector\n",
      "/tmp/ipykernel_8826/3446955684.py:5: RuntimeWarning: invalid value encountered in divide\n",
      "  return (np.exp(Z) / sum(np.exp(Z))) # again, using numpy for element-wise application in vector\n"
     ]
    },
    {
     "data": {
      "image/png": "[encoded data removed]",
      "text/plain": [
       "<Figure size 640x480 with 1 Axes>"
      ]
     },
     "metadata": {},
     "output_type": "display_data"
    }
   ],
   "source": [
    "predict_output(1283)"
   ]
  },
  {
   "cell_type": "code",
   "execution_count": 166,
   "id": "97c26362",
   "metadata": {},
   "outputs": [
    {
     "name": "stdout",
     "output_type": "stream",
     "text": [
      "predicted label = 1\n"
     ]
    },
    {
     "name": "stderr",
     "output_type": "stream",
     "text": [
      "/tmp/ipykernel_8826/3446955684.py:5: RuntimeWarning: overflow encountered in exp\n",
      "  return (np.exp(Z) / sum(np.exp(Z))) # again, using numpy for element-wise application in vector\n",
      "/tmp/ipykernel_8826/3446955684.py:5: RuntimeWarning: invalid value encountered in divide\n",
      "  return (np.exp(Z) / sum(np.exp(Z))) # again, using numpy for element-wise application in vector\n"
     ]
    },
    {
     "data": {
      "image/png": "[encoded data removed]",
      "text/plain": [
       "<Figure size 640x480 with 1 Axes>"
      ]
     },
     "metadata": {},
     "output_type": "display_data"
    }
   ],
   "source": [
    "predict_output(4123)"
   ]
  },
  {
   "cell_type": "code",
   "execution_count": 167,
   "id": "d85b26a9",
   "metadata": {},
   "outputs": [
    {
     "name": "stdout",
     "output_type": "stream",
     "text": [
      "predicted label = 0\n"
     ]
    },
    {
     "name": "stderr",
     "output_type": "stream",
     "text": [
      "/tmp/ipykernel_8826/3446955684.py:5: RuntimeWarning: overflow encountered in exp\n",
      "  return (np.exp(Z) / sum(np.exp(Z))) # again, using numpy for element-wise application in vector\n",
      "/tmp/ipykernel_8826/3446955684.py:5: RuntimeWarning: invalid value encountered in divide\n",
      "  return (np.exp(Z) / sum(np.exp(Z))) # again, using numpy for element-wise application in vector\n"
     ]
    },
    {
     "data": {
      "image/png": "[encoded data removed]",
      "text/plain": [
       "<Figure size 640x480 with 1 Axes>"
      ]
     },
     "metadata": {},
     "output_type": "display_data"
    }
   ],
   "source": [
    "predict_output(12323)"
   ]
  },
  {
   "cell_type": "code",
   "execution_count": 168,
   "id": "95e2e617",
   "metadata": {},
   "outputs": [
    {
     "name": "stdout",
     "output_type": "stream",
     "text": [
      "predicted label = 1\n"
     ]
    },
    {
     "name": "stderr",
     "output_type": "stream",
     "text": [
      "/tmp/ipykernel_8826/3446955684.py:5: RuntimeWarning: overflow encountered in exp\n",
      "  return (np.exp(Z) / sum(np.exp(Z))) # again, using numpy for element-wise application in vector\n",
      "/tmp/ipykernel_8826/3446955684.py:5: RuntimeWarning: invalid value encountered in divide\n",
      "  return (np.exp(Z) / sum(np.exp(Z))) # again, using numpy for element-wise application in vector\n"
     ]
    },
    {
     "data": {
      "image/png": "[encoded data removed]",
      "text/plain": [
       "<Figure size 640x480 with 1 Axes>"
      ]
     },
     "metadata": {},
     "output_type": "display_data"
    }
   ],
   "source": [
    "predict_output(123)"
   ]
  },
  {
   "cell_type": "code",
   "execution_count": 169,
   "id": "831c5b2f",
   "metadata": {},
   "outputs": [
    {
     "name": "stdout",
     "output_type": "stream",
     "text": [
      "predicted label = 1\n"
     ]
    },
    {
     "name": "stderr",
     "output_type": "stream",
     "text": [
      "/tmp/ipykernel_8826/3446955684.py:5: RuntimeWarning: overflow encountered in exp\n",
      "  return (np.exp(Z) / sum(np.exp(Z))) # again, using numpy for element-wise application in vector\n",
      "/tmp/ipykernel_8826/3446955684.py:5: RuntimeWarning: invalid value encountered in divide\n",
      "  return (np.exp(Z) / sum(np.exp(Z))) # again, using numpy for element-wise application in vector\n"
     ]
    },
    {
     "data": {
      "image/png": "[encoded data removed]",
      "text/plain": [
       "<Figure size 640x480 with 1 Axes>"
      ]
     },
     "metadata": {},
     "output_type": "display_data"
    }
   ],
   "source": [
    "predict_output(4234)"
   ]
  },
  {
   "cell_type": "code",
   "execution_count": 170,
   "id": "45461bab",
   "metadata": {},
   "outputs": [
    {
     "name": "stdout",
     "output_type": "stream",
     "text": [
      "predicted label = 1\n"
     ]
    },
    {
     "name": "stderr",
     "output_type": "stream",
     "text": [
      "/tmp/ipykernel_8826/3446955684.py:5: RuntimeWarning: overflow encountered in exp\n",
      "  return (np.exp(Z) / sum(np.exp(Z))) # again, using numpy for element-wise application in vector\n",
      "/tmp/ipykernel_8826/3446955684.py:5: RuntimeWarning: invalid value encountered in divide\n",
      "  return (np.exp(Z) / sum(np.exp(Z))) # again, using numpy for element-wise application in vector\n"
     ]
    },
    {
     "data": {
      "image/png": "[encoded data removed]",
      "text/plain": [
       "<Figure size 640x480 with 1 Axes>"
      ]
     },
     "metadata": {},
     "output_type": "display_data"
    }
   ],
   "source": [
    "predict_output(109)"
   ]
  },
  {
   "cell_type": "code",
   "execution_count": 212,
   "id": "0bd534bf",
   "metadata": {},
   "outputs": [
    {
     "name": "stdout",
     "output_type": "stream",
     "text": [
      "predicted label = 0\n"
     ]
    },
    {
     "name": "stderr",
     "output_type": "stream",
     "text": [
      "/tmp/ipykernel_8826/3446955684.py:5: RuntimeWarning: overflow encountered in exp\n",
      "  return (np.exp(Z) / sum(np.exp(Z))) # again, using numpy for element-wise application in vector\n",
      "/tmp/ipykernel_8826/3446955684.py:5: RuntimeWarning: invalid value encountered in divide\n",
      "  return (np.exp(Z) / sum(np.exp(Z))) # again, using numpy for element-wise application in vector\n"
     ]
    },
    {
     "data": {
      "image/png": "[encoded data removed]",
      "text/plain": [
       "<Figure size 640x480 with 1 Axes>"
      ]
     },
     "metadata": {},
     "output_type": "display_data"
    }
   ],
   "source": [
    "random_idx = random.randint(0, test_data[0].size-1)\n",
    "predict_output(random_idx)"
   ]
  },
  {
   "cell_type": "markdown",
   "id": "4b38f6b1",
   "metadata": {},
   "source": [
    "Though I did not calculate test data accuracy, it is not very accurate from the small sample that I tested.\n",
    "It gives mostly correct predictions for 0 and 1, but messes up others.\n",
    "Regardless, it is a pretty barebones model with a lot of room for improvement."
   ]
  }
 ],
 "metadata": {
  "kernelspec": {
   "display_name": "Python 3 (ipykernel)",
   "language": "python",
   "name": "python3"
  },
  "language_info": {
   "codemirror_mode": {
    "name": "ipython",
    "version": 3
   },
   "file_extension": ".py",
   "mimetype": "text/x-python",
   "name": "python",
   "nbconvert_exporter": "python",
   "pygments_lexer": "ipython3",
   "version": "3.12.3"
  }
 },
 "nbformat": 4,
 "nbformat_minor": 5
}
